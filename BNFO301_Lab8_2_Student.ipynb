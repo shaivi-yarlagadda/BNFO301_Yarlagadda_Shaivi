{
  "nbformat": 4,
  "nbformat_minor": 0,
  "metadata": {
    "colab": {
      "provenance": [],
      "include_colab_link": true
    },
    "kernelspec": {
      "name": "python3",
      "display_name": "Python 3"
    },
    "language_info": {
      "name": "python"
    }
  },
  "cells": [
    {
      "cell_type": "markdown",
      "metadata": {
        "id": "view-in-github",
        "colab_type": "text"
      },
      "source": [
        "<a href=\"https://colab.research.google.com/github/shaivi-yarlagadda/BNFO301_Yarlagadda_Shaivi/blob/main/BNFO301_Lab8_2_Student.ipynb\" target=\"_parent\"><img src=\"https://colab.research.google.com/assets/colab-badge.svg\" alt=\"Open In Colab\"/></a>"
      ]
    },
    {
      "cell_type": "markdown",
      "source": [
        "Lab 8.2. Binding sites in genomes continued.\n",
        "\n",
        "**This weekend is BNFOthon and I encourage you to participate in BNFOthon.  To faciliate your participation, I have limited this lab to two questions and extend the submission deadline to Monday.**\n",
        "\n",
        "Last week we learned how to identify a motif, the RNA polymerase binding site \"TATAAT\", within a genome, given an idealized logo.  We also learned how to simulated a genome with similar characteristics to our 'real' genome.  This week will continue the excercise by implementing our simulation within a loop and sumarizing base frequences, both in the overall genome and within the RNA polymerase bidning motif, from multiple simulations.\n",
        "\n",
        "As I noted in our lecture last week, we can apply many of the skills covered in lab 8 in motif discovery.  I encourage you to think about this when working on group project 2, as many common motifs were originally identifed using similar tools.\n",
        "\n",
        "After we complete the two questions below, there will be time for each group to meet with the instructor and recieve personalized feedback on your project 2 progress.  Please come to lab ready with questions or elements where you need help!\n",
        "\n",
        "This lab is worth 10 points.\n",
        "\n",
        "Question 1. 4 points.\n",
        "\n",
        "Question 2. 6 points.\n"
      ],
      "metadata": {
        "id": "mkwP0IXdsMaQ"
      }
    },
    {
      "cell_type": "markdown",
      "source": [
        "Please run this box to load data and definitions from last week"
      ],
      "metadata": {
        "id": "_gtDnjX6sScm"
      }
    },
    {
      "cell_type": "code",
      "execution_count": 1,
      "metadata": {
        "id": "dlKV2tlOrHIi"
      },
      "outputs": [],
      "source": [
        "import numpy as np\n",
        "import re\n",
        "ProvidedSequence = \"TATAATGTCAGTCAGTCAGTCAGTCATATAATGTCAGTCAGTCAGTCAGTCATATAATGTCAGTCAGTCAGTCAGTCATATAATGTCAGTCAGTCAGTCAGTCATATAATGTCAGTCAGTCAGTCAGTCATATAATGTCAGTCAGTCAGTCAGTCATATAATGTCAGTCAGTCAGTCAGTCATATAATGTCAGTCAGTCAGTCAGTCATATAATGTCAGTCAGTCAGTCAGTCATATAATGTCAGTCAGTCAGTCAGTCATAGGGTGTCAGTCAGTCAGTCAGTCATAGGGTGTCAGTCAGTCAGTCAGTCATACCCTGTCAGTCAGTCAGTCAGTCATACCCTGTCAGTCAGTCAGTCAGTCATAATTTGTCAGTCAGTCAGTCAGTCATAATTTGTCAGTCAGTCAGTCAGTCA\"\n",
        "\n",
        "def genomeBaseFreq(genome):\n",
        "  base_counts = {'A':0,'T':0,'C':0,'G':0}\n",
        "  genome_length = len(genome)\n",
        "  for base in genome:\n",
        "    if base in base_counts:\n",
        "      base_counts[base] += 1\n",
        "  fractions = {base: base_counts[base]/genome_length for base in base_counts}\n",
        "  return fractions\n",
        "\n",
        "def simulateGenome(genome):\n",
        "  baseDict = genomeBaseFreq(genome)\n",
        "  genomeLength = len(genome)\n",
        "  states = []\n",
        "  baseFreq = []\n",
        "  for k,v in baseDict.items():\n",
        "    states.append(k)\n",
        "    baseFreq.append(v)\n",
        "  draft_seq = np.random.choice(states, genomeLength, p=baseFreq)\n",
        "  return ''.join(draft_seq)\n"
      ]
    },
    {
      "cell_type": "markdown",
      "source": [
        "Problem 1. Multiple simulations.\n",
        "\n",
        "Create a definition to implement the \"simulateGenome\" function and generate 100 simulated sequences.  Your definition should print the average base frequencies of A, T, C, and G from all siulated sequences."
      ],
      "metadata": {
        "id": "uo7uPmaSsP4Y"
      }
    },
    {
      "cell_type": "code",
      "source": [
        "#############################################\n",
        "#\n",
        "# create a definition to implement the definition \"simGenome\" and generate 100 simulated sequences\n",
        "# next, calculate and print to screen the mean base frequencies\n",
        "#\n",
        "#############################################\n",
        "\n",
        "def multipleSims(observedgenome):\n",
        "\n",
        "  base_freqs = {'A': [], 'T': [], 'C': [], 'G': []}\n",
        "  for _ in range(100):\n",
        "    simulated_genome = simulateGenome(observedgenome)\n",
        "    base_frequencies = genomeBaseFreq(simulated_genome)\n",
        "    for base, freq in base_frequencies.items():\n",
        "      base_freqs[base].append(freq)\n",
        "\n",
        "  avg_freqs = {base: np.mean(freqs) for base, freqs in base_freqs.items()}\n",
        "  for base, avg_freq in avg_freqs.items():\n",
        "      print(base, avg_freq)\n",
        "\n",
        "\n",
        "########################################\n",
        "#\n",
        "# test your definition\n",
        "# note: this is a simulation, your results may differ from the real data or the answer in the key\n",
        "#\n",
        "#########################################\n",
        "\n",
        "multipleSims(ProvidedSequence)"
      ],
      "metadata": {
        "colab": {
          "base_uri": "https://localhost:8080/"
        },
        "id": "2AT4QOlltkyR",
        "outputId": "c7eb02c3-02fc-4b67-952b-abceeba3bfe0"
      },
      "execution_count": 10,
      "outputs": [
        {
          "output_type": "stream",
          "name": "stdout",
          "text": [
            "A 0.28365384615384615\n",
            "T 0.30463942307692304\n",
            "C 0.2032451923076923\n",
            "G 0.2084615384615385\n"
          ]
        }
      ]
    },
    {
      "cell_type": "markdown",
      "source": [
        "Problem 2. Examine the motif within multiple simulations.\n",
        "\n",
        "Create a definition to implement the \"simulateGenome\" function and generate 100 simulated sequences.  Within each simulation identify the RNA polymerase binding motif.  Your definition print to screen to elements.  First, the mean number of motifs discovered in the simulated genomes.  Second, the mean base frequencies at each index in the motif."
      ],
      "metadata": {
        "id": "WyiCSauiwsrQ"
      }
    },
    {
      "cell_type": "code",
      "source": [
        "#############################################\n",
        "#\n",
        "# create a definition to implement the definition \"simulateGenome\" and generate 100 simulated sequences,\n",
        "# next, calculate and print to screen the mean number of motifs detected in the simulations\n",
        "# next, calculate and print to screen the mean base frequency for each index in the pribnow box\n",
        "# recall your pattern for the RNA polymerase binding site is 'TA[TACG]{3}T'\n",
        "#\n",
        "#############################################\n",
        "\n",
        "def simSite(observedgenome):\n",
        "  motif_pattern = 'TA[TACG]{3}T'\n",
        "  motif_counts = []\n",
        "  motif_base_freqs = {i: {'A': [], 'T': [], 'C': [], 'G': []} for i in range(6)}\n",
        "\n",
        "  for _ in range(100):\n",
        "      simulated_genome = simulateGenome(observedgenome)\n",
        "      motifs = re.findall(motif_pattern, simulated_genome)\n",
        "      motif_counts.append(len(motifs))\n",
        "      for motif in motifs:\n",
        "          for i, base in enumerate(motif):\n",
        "              motif_base_freqs[i][base].append(1)\n",
        "\n",
        "  mean_motif_count = np.mean(motif_counts)\n",
        "  print(\"Mean number of motifs detected:\", mean_motif_count)\n",
        "\n",
        "  for i in range(6):\n",
        "      base_freqs = {base: np.mean(freqs) if freqs else 0 for base, freqs in motif_base_freqs[i].items()}\n",
        "      for base, freq in base_freqs.items():\n",
        "          print(i, base, freq)\n",
        "\n",
        "\n",
        "########################################\n",
        "#\n",
        "# test your definition\n",
        "# note: this is a simulation, your results may differ from the real data or the answer in the key\n",
        "#\n",
        "#########################################\n",
        "\n",
        "simSite(ProvidedSequence)"
      ],
      "metadata": {
        "colab": {
          "base_uri": "https://localhost:8080/"
        },
        "id": "98Fl16lFyNw1",
        "outputId": "356c855e-1cda-486c-ea82-18656158a50d"
      },
      "execution_count": 11,
      "outputs": [
        {
          "output_type": "stream",
          "name": "stdout",
          "text": [
            "Mean number of motifs detected: 9.23\n",
            "0 A 0\n",
            "0 T 1.0\n",
            "0 C 0\n",
            "0 G 0\n",
            "1 A 1.0\n",
            "1 T 0\n",
            "1 C 0\n",
            "1 G 0\n",
            "2 A 1.0\n",
            "2 T 1.0\n",
            "2 C 1.0\n",
            "2 G 1.0\n",
            "3 A 1.0\n",
            "3 T 1.0\n",
            "3 C 1.0\n",
            "3 G 1.0\n",
            "4 A 1.0\n",
            "4 T 1.0\n",
            "4 C 1.0\n",
            "4 G 1.0\n",
            "5 A 0\n",
            "5 T 1.0\n",
            "5 C 0\n",
            "5 G 0\n"
          ]
        }
      ]
    }
  ]
}