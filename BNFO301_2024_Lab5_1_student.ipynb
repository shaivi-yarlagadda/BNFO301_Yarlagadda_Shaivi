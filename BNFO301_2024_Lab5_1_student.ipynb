{
  "nbformat": 4,
  "nbformat_minor": 0,
  "metadata": {
    "colab": {
      "provenance": [],
      "include_colab_link": true
    },
    "kernelspec": {
      "name": "python3",
      "display_name": "Python 3"
    },
    "language_info": {
      "name": "python"
    }
  },
  "cells": [
    {
      "cell_type": "markdown",
      "metadata": {
        "id": "view-in-github",
        "colab_type": "text"
      },
      "source": [
        "<a href=\"https://colab.research.google.com/github/shaivi-yarlagadda/BNFO301_Yarlagadda_Shaivi/blob/main/BNFO301_2024_Lab5_1_student.ipynb\" target=\"_parent\"><img src=\"https://colab.research.google.com/assets/colab-badge.svg\" alt=\"Open In Colab\"/></a>"
      ]
    },
    {
      "cell_type": "markdown",
      "metadata": {
        "id": "y_V08ygIMrJd"
      },
      "source": [
        "<h1>BNFO301 Lab Assignment 5.1: Consensus Sequences</h1>\n",
        "\n",
        "A consensus sequence represents the most frequent nucleotide at each position in an alignment of two or more sequences. You can think of this as finding the most common base in a position within a multiple sequence alignment. Consensus sequences can be useful for identifying and visualizing motifs in a DNA or amino acid sequence. You have been provided a FASTA file of aligned sequences. The goal of this assignment is to write a python script to read in the sequences from the file and generate the consensus sequence\n",
        "\n",
        "\n",
        "Grading: problem 1 = 4 points; problem 2 = 6 points. 1 point extra-credit.\n",
        "\n",
        "Timeline: You will have two class periods to complete the lab.  Part 1 is given this week.  You recieve a second part next week.    Your responses to problems should be uploaded to **github**.  Your reponse to the extra-credit should be uploaded to **canvas**.\n",
        "\n",
        "**Helpful Resources:**\n",
        "\n",
        "If you are unfamiliar with consensus sequences or would like to review, this video explains the concept: https://www.youtube.com/watch?v=4HYJILahPw4 between 2:20 and 4:20. It may also be helpful to first generate the consensus sequence by hand, so that you can check the output from your script.\n",
        "\n",
        "**Reminder: You may work with other students in the class, but you are not allowed to copy code from others or any source.  If you copy anything from any source, you must describe the source.  Failure to comply is a violation of the class policy.**"
      ]
    },
    {
      "cell_type": "markdown",
      "metadata": {
        "id": "mMbh0oaoNIEm"
      },
      "source": [
        "### Setup\n",
        "Load the Sequence Data File.  Please run this block without changing the code.\n",
        "\n",
        "This file is in fasta format and contains an alignment of DNA sequences, including gaps\n",
        "\n",
        "you can view the file by clicking on this link: https://raw.githubusercontent.com/boydvcu/BNFO301_2023/main/Nucl_alignment.fa"
      ]
    },
    {
      "cell_type": "code",
      "metadata": {
        "id": "TMJrCsgQMp2T",
        "colab": {
          "base_uri": "https://localhost:8080/"
        },
        "outputId": "4d9b500e-a0f2-4697-8d0c-b66439299109"
      },
      "source": [
        "import os.path\n",
        "# Load the genbank file\n",
        "DATA_FILE_GITHUB = \"https://raw.githubusercontent.com/boydvcu/BNFO301_2023/main/Nucl_alignment.fa\"\n",
        "DEFAULT_FILE_NAME = 'Nucl_alignment.fa'\n",
        "\n",
        "fileName = DEFAULT_FILE_NAME\n",
        "#Does the file exists locally, if not get it from the github\n",
        "if not os.path.exists(fileName):\n",
        "  #Load the file from Github to the local folder\n",
        "  !wget --no-check-certificate --content-disposition $DATA_FILE_GITHUB\n",
        "\n"
      ],
      "execution_count": 1,
      "outputs": [
        {
          "output_type": "stream",
          "name": "stdout",
          "text": [
            "--2024-02-19 03:11:38--  https://raw.githubusercontent.com/boydvcu/BNFO301_2023/main/Nucl_alignment.fa\n",
            "Resolving raw.githubusercontent.com (raw.githubusercontent.com)... 185.199.109.133, 185.199.110.133, 185.199.108.133, ...\n",
            "Connecting to raw.githubusercontent.com (raw.githubusercontent.com)|185.199.109.133|:443... connected.\n",
            "HTTP request sent, awaiting response... 200 OK\n",
            "Length: 302 [text/plain]\n",
            "Saving to: ‘Nucl_alignment.fa’\n",
            "\n",
            "\rNucl_alignment.fa     0%[                    ]       0  --.-KB/s               \rNucl_alignment.fa   100%[===================>]     302  --.-KB/s    in 0s      \n",
            "\n",
            "2024-02-19 03:11:38 (17.8 MB/s) - ‘Nucl_alignment.fa’ saved [302/302]\n",
            "\n"
          ]
        }
      ]
    },
    {
      "cell_type": "markdown",
      "metadata": {
        "id": "NgIx3OQrOCXT"
      },
      "source": [
        "###problem-1.  Create a definition to read the FASTA formated file and add sequences into a list.  Create a second list that contains your headers (with the \">\" removed).  Your function should return both lists, not just print each list.  You have been provided a fucntion to print each lise, so that you can evaluate your lists.\n",
        "\n",
        "\n",
        "Hint, you will need to do the following:\n",
        "* We need a function to load the sequence file\n",
        "* We will load it in two lists of sequences and header names\n",
        "* Remember to strip \">\" and \"\\n\" characters\n",
        "\n",
        "\n",
        "Your output should look like this:\n",
        "\n",
        "Human       GGAGAGGCTCGGAGCCGGGCCCGGACCCCGGCGATTGCCGCCCGCTTCTCT\n",
        "\n",
        "Gorilla     GGAGAGGCTCGGAGCCGGGCCCGGACCCCGGCGATTGCCGCCCGCTTCTCT\n",
        "\n",
        "Dolphin     GAGGCTC---GGAGCCGGACCTGGACCCCTGCGATAGCCGTCTG-CTCCCG\n",
        "\n",
        "Rat         GGAGCAACTAGGAACCCGAACCAGAGCCCGGCGAGCGCAGCCTGCAGCTCC\n",
        "\n",
        "Mouse       GAGGCGCCTAGGAACCCGAGCCGGAGCTCAGCGAGCGCAGCCTGCAGCTCC\n"
      ]
    },
    {
      "cell_type": "code",
      "metadata": {
        "colab": {
          "base_uri": "https://localhost:8080/"
        },
        "id": "2Vl6BmmKOWkV",
        "outputId": "1e41a48a-3db9-445b-eec8-b66bea83a22e"
      },
      "source": [
        "#-----------------------------------------\n",
        "#1.1. create a function to read the fasta formated file and return both a list of sequences and a list of sequence identifiers\n",
        "#-----------------------------------------\n",
        "def ReadFile(fileName):\n",
        "    sequences = []\n",
        "    headers = []\n",
        "    with open(fileName, \"r\") as myfile:\n",
        "        seq = ''\n",
        "        for line in myfile:\n",
        "            if line.startswith('>'):\n",
        "                header = line.strip()[1:]\n",
        "                headers.append(header)\n",
        "                if seq:  # If there's a sequence already, append it to sequences\n",
        "                    sequences.append(seq.replace('\\n', ''))\n",
        "                    seq = ''  # Reset sequence for the new entry\n",
        "            else:\n",
        "                seq += line.strip()\n",
        "        sequences.append(seq)  # Append the last sequence\n",
        "    return headers, sequences\n",
        "\n",
        "# -----------------------------\n",
        "#1.2 you have been provided with the function below to print sequences and sequence_names in an easily readable format\n",
        "# ------------------------------\n",
        "def printInfo(seqIds, seqs):\n",
        "    for seqId, seq in zip(seqIds, seqs):\n",
        "        print(\"{: <12} {: <20}\".format(seqId, seq))\n",
        "\n",
        "# -----------------------------\n",
        "#1.3 remember to call your functions\n",
        "# -----------------------------\n",
        "\n",
        "headers, sequences = ReadFile(fileName)\n",
        "printInfo(headers, sequences)\n"
      ],
      "execution_count": 2,
      "outputs": [
        {
          "output_type": "stream",
          "name": "stdout",
          "text": [
            " Human       GGAGAGGCTCGGAGCCGGGCCCGGACCCCGGCGATTGCCGCCCGCTTCTCT\n",
            " Gorilla     GGAGAGGCTCGGAGCCGGGCCCGGACCCCGGCGATTGCCGCCCGCTTCTCT\n",
            " Dolphin     GAGGCTC---GGAGCCGGACCTGGACCCCTGCGATAGCCGTCTG-CTCCCG\n",
            " Rat         GGAGCAACTAGGAACCCGAACCAGAGCCCGGCGAGCGCAGCCTGCAGCTCC\n",
            " Mouse       GAGGCGCCTAGGAACCCGAGCCGGAGCTCAGCGAGCGCAGCCTGCAGCTCC\n"
          ]
        }
      ]
    },
    {
      "cell_type": "markdown",
      "metadata": {
        "id": "pH0HCad1_mYF"
      },
      "source": [
        "###problem-2. In this problem you will build a defition that uses nested loops to format the data in such a way that you can determine the most common base.  Multiple bioinformatic programs handle data in this way.  Remember to return your data as strings that represent bases in a column.  You have been given code to print the first three columns of the matrix.  This allows you to visualize your matrix and check it for accuracy.  Functions len and range will be useful in completing this problem.\n",
        "\n",
        "\n",
        "For example, lets take the input for the first three bases in the alignment given:\n",
        "\n",
        "Human       GGA\n",
        "\n",
        "Gorilla     GGA\n",
        "\n",
        "Dolphin     GAG\n",
        "\n",
        "Rat         GGA\n",
        "\n",
        "Mouse       GAG\n",
        "\n",
        "You should return data that looks like this:  [['G', 'G', 'G', 'G', 'G'], ['G', 'G', 'A', 'G', 'A'], ['A', 'A', 'G', 'A', 'G']]"
      ]
    },
    {
      "cell_type": "code",
      "metadata": {
        "id": "wrrprj_p_sYT",
        "outputId": "f42b59e3-c9e1-42d0-ea9d-989ec6c0a383",
        "colab": {
          "base_uri": "https://localhost:8080/"
        }
      },
      "source": [
        "# -----------------------------\n",
        "# Convert sequence format for easy computation\n",
        "# ------------------------------\n",
        "def maniputlateSeqs(sequences):\n",
        "    # Note lengths of the aligned sequences are equal in length\n",
        "    #first, initialize a list to store your columns\n",
        "    columndata = []\n",
        "    for i in range(len(sequences[0])):  # Iterate over each position in sequences\n",
        "        column_bases = []\n",
        "        for seq in sequences:\n",
        "          column_bases.append(seq[i])  # Extract bases at current position from all sequences\n",
        "          columndata.append(column_bases)  # Append bases for the current position\n",
        "    return columndata\n",
        "\n",
        "    # Create a list of lists using nested loops\n",
        "    # Example:\n",
        "    #        ATGCA\n",
        "    #        ATGAA\n",
        "    #        TCGAT\n",
        "    #             Bases at index 0   Bases at index 1 ...\n",
        "    # positions = [[\"A\", \"A\", \"T\"],  [\"T\", \"T\", \"C\"], ...]]\n",
        "    # this process is best done with a for loop\n",
        "    # the append function will be most useful\n",
        "    #do not forget to return the data\n",
        "\n",
        "#print the first 3 rows of the matrix\n",
        "print(columndata[0:3])\n",
        "\n",
        "\n",
        "\n",
        "\n",
        "\n"
      ],
      "execution_count": 11,
      "outputs": [
        {
          "output_type": "stream",
          "name": "stdout",
          "text": [
            "[['G', 'G', 'G', 'G', 'G'], ['G', 'G', 'G', 'G', 'G'], ['G', 'G', 'G', 'G', 'G']]\n"
          ]
        }
      ]
    },
    {
      "cell_type": "markdown",
      "metadata": {
        "id": "A1z6jSbwCxTs"
      },
      "source": [
        "###Extra-credit  \n",
        "One way aligned sequences are often visualized is as a sequence logo. For an additional point, go to https://weblogo.berkeley.edu/logo.cgi and upload the provided FASTA file. Save the image and upload to canvas.  "
      ]
    }
  ]
}