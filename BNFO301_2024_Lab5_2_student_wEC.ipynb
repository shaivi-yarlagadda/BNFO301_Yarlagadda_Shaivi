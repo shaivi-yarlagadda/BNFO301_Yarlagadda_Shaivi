{
  "nbformat": 4,
  "nbformat_minor": 0,
  "metadata": {
    "colab": {
      "provenance": [],
      "include_colab_link": true
    },
    "kernelspec": {
      "name": "python3",
      "display_name": "Python 3"
    },
    "language_info": {
      "name": "python"
    }
  },
  "cells": [
    {
      "cell_type": "markdown",
      "metadata": {
        "id": "view-in-github",
        "colab_type": "text"
      },
      "source": [
        "<a href=\"https://colab.research.google.com/github/shaivi-yarlagadda/BNFO301_Yarlagadda_Shaivi/blob/main/BNFO301_2024_Lab5_2_student_wEC.ipynb\" target=\"_parent\"><img src=\"https://colab.research.google.com/assets/colab-badge.svg\" alt=\"Open In Colab\"/></a>"
      ]
    },
    {
      "cell_type": "markdown",
      "metadata": {
        "id": "y_V08ygIMrJd"
      },
      "source": [
        "<h1>BNFO301 Lab Assignment 5.2: Consensus Sequences</h1>\n",
        "\n",
        "A consensus sequence represents the most frequent nucleotide at each position in an alignment of two or more sequences. You can think of this as finding the most common base in a position within a multiple sequence alignment. Consensus sequences can be useful for identifying and visualizing motifs in a DNA or amino acid sequence. You have been provided a FASTA file of aligned sequences. The goal of this assignment is to write a python script to read in the sequences from the file and generate the consensus sequence\n",
        "\n",
        "\n",
        "Grading: problem 3 = 10 points.   ExtraCredit = 3 points.\n",
        "\n",
        "Timeline: You will have two class periods to complete the lab.    Your responses to problems 1-3 should be uploaded to **github**.  Note, answers to problems one and two, from last meeting, are given.\n",
        "\n",
        "**Helpful Resources:**\n",
        "\n",
        "If you are unfamiliar with consensus sequences or would like to review, this video explains the concept: https://www.youtube.com/watch?v=4HYJILahPw4 between 2:20 and 4:20. It may also be helpful to first generate the consensus sequence by hand, so that you can check the output from your script.\n",
        "\n",
        "**Reminder: You may work with other students in the class, but you are not allowed to copy code from others or any source.  If you copy anything from any source, you must describe the source.  Failure to comply is a violation of class policy.**\n",
        "\n"
      ]
    },
    {
      "cell_type": "markdown",
      "metadata": {
        "id": "mMbh0oaoNIEm"
      },
      "source": [
        "### Setup\n",
        "Load the Sequence Data File.  Please run this block without changing the code.\n",
        "\n",
        "This file is in fasta format and contains an alignment of DNA sequences, including gaps\n",
        "\n",
        "you can view the file by clicking on this link: https://raw.githubusercontent.com/boydvcu/BNFO301_2023/main/Nucl_alignment.fa"
      ]
    },
    {
      "cell_type": "code",
      "metadata": {
        "id": "TMJrCsgQMp2T",
        "colab": {
          "base_uri": "https://localhost:8080/"
        },
        "outputId": "7a970a8d-8ce9-468e-b3cc-f18db117d811"
      },
      "source": [
        "import os.path\n",
        "# Load the genbank file\n",
        "DATA_FILE_GITHUB = \"https://raw.githubusercontent.com/boydvcu/BNFO301_2023/main/Nucl_alignment.fa\"\n",
        "DEFAULT_FILE_NAME = 'Nucl_alignment.fa'\n",
        "\n",
        "fileName = DEFAULT_FILE_NAME\n",
        "#Does the file exists locally, if not get it from the github\n",
        "if not os.path.exists(fileName):\n",
        "  #Load the file from Github to the local folder\n",
        "  !wget --no-check-certificate --content-disposition $DATA_FILE_GITHUB\n",
        "\n"
      ],
      "execution_count": 1,
      "outputs": [
        {
          "output_type": "stream",
          "name": "stdout",
          "text": [
            "--2024-02-22 17:32:33--  https://raw.githubusercontent.com/boydvcu/BNFO301_2023/main/Nucl_alignment.fa\n",
            "Resolving raw.githubusercontent.com (raw.githubusercontent.com)... 185.199.108.133, 185.199.109.133, 185.199.110.133, ...\n",
            "Connecting to raw.githubusercontent.com (raw.githubusercontent.com)|185.199.108.133|:443... connected.\n",
            "HTTP request sent, awaiting response... 200 OK\n",
            "Length: 302 [text/plain]\n",
            "Saving to: ‘Nucl_alignment.fa’\n",
            "\n",
            "\rNucl_alignment.fa     0%[                    ]       0  --.-KB/s               \rNucl_alignment.fa   100%[===================>]     302  --.-KB/s    in 0s      \n",
            "\n",
            "2024-02-22 17:32:33 (27.6 MB/s) - ‘Nucl_alignment.fa’ saved [302/302]\n",
            "\n"
          ]
        }
      ]
    },
    {
      "cell_type": "markdown",
      "metadata": {
        "id": "NgIx3OQrOCXT"
      },
      "source": [
        "###problem-1.  Create a definition to read the FASTA formated file and add sequences into a list.  Create a second list that contains your headers (with the \">\" removed).  Your function should return both lists, not just print each list.  You have been provided a fucntion to print each lise, so that you can evaluate your lists.\n",
        "\n",
        "\n",
        "Hint, you will need to do the following:\n",
        "* We need a function to load the sequence file\n",
        "* We will load it in two lists of sequences and header names\n",
        "* Remember to strip \">\" and \"\\n\" characters\n",
        "\n",
        "\n",
        "Your output should look like this:\n",
        "\n",
        "Human       GGAGAGGCTCGGAGCCGGGCCCGGACCCCGGCGATTGCCGCCCGCTTCTCT\n",
        "\n",
        "Gorilla     GGAGAGGCTCGGAGCCGGGCCCGGACCCCGGCGATTGCCGCCCGCTTCTCT\n",
        "\n",
        "Dolphin     GAGGCTC---GGAGCCGGACCTGGACCCCTGCGATAGCCGTCTG-CTCCCG\n",
        "\n",
        "Rat         GGAGCAACTAGGAACCCGAACCAGAGCCCGGCGAGCGCAGCCTGCAGCTCC\n",
        "\n",
        "Mouse       GAGGCGCCTAGGAACCCGAGCCGGAGCTCAGCGAGCGCAGCCTGCAGCTCC\n"
      ]
    },
    {
      "cell_type": "code",
      "metadata": {
        "colab": {
          "base_uri": "https://localhost:8080/"
        },
        "id": "2Vl6BmmKOWkV",
        "outputId": "6c232f30-0220-431f-aabe-91baa623fa6e"
      },
      "source": [
        "#ANSWER##################################\n",
        "\n",
        "def ReadFile(fh):\n",
        "    # Open file\n",
        "    file = open(fh)\n",
        "\n",
        "    # Initialize variables\n",
        "    sequences = []  # Store sequences\n",
        "    seqIds = []  # Store sequence headers\n",
        "\n",
        "    # Loop through file\n",
        "    for line in open(fh):\n",
        "\n",
        "        # Remove all unwanted white spaces\n",
        "        line = line.strip()\n",
        "\n",
        "        # Find fasta header for first sequence\n",
        "        if line.startswith(\">\"):\n",
        "            seqIds.append(line.replace(\">\", \"\"))\n",
        "        else:\n",
        "            sequences.append(line)\n",
        "\n",
        "    # Return lists\n",
        "    return sequences, seqIds\n",
        "\n",
        "\n",
        "# -----------------------------\n",
        "# Utility function to pretty print\n",
        "# ------------------------------\n",
        "def printInfo(seqIds, seqs):\n",
        "    for seqId, seq in zip(seqIds, seqs):\n",
        "        print(\"{: <12} {: <20}\".format(seqId, seq))\n",
        "\n",
        "\n",
        "sequences, seqIds = ReadFile(fileName)\n",
        "# print(sequences, seqIds)\n",
        "printInfo(seqIds, sequences)\n",
        "\n",
        "\n"
      ],
      "execution_count": 2,
      "outputs": [
        {
          "output_type": "stream",
          "name": "stdout",
          "text": [
            " Human       GGAGAGGCTCGGAGCCGGGCCCGGACCCCGGCGATTGCCGCCCGCTTCTCT\n",
            " Gorilla     GGAGAGGCTCGGAGCCGGGCCCGGACCCCGGCGATTGCCGCCCGCTTCTCT\n",
            " Dolphin     GAGGCTC---GGAGCCGGACCTGGACCCCTGCGATAGCCGTCTG-CTCCCG\n",
            " Rat         GGAGCAACTAGGAACCCGAACCAGAGCCCGGCGAGCGCAGCCTGCAGCTCC\n",
            " Mouse       GAGGCGCCTAGGAACCCGAGCCGGAGCTCAGCGAGCGCAGCCTGCAGCTCC\n"
          ]
        }
      ]
    },
    {
      "cell_type": "markdown",
      "metadata": {
        "id": "pH0HCad1_mYF"
      },
      "source": [
        "###problem-2. In this problem you will build a defition that uses nested loops to format the data in such a way that you can determine the most common base.  Multiple bioinformatic programs handle data in this way.  Remember to return your data as strings that represent bases in a column.  You have been given code to print the first three columns of the matrix.  This allows you to visualize your matrix and check it for accuracy.  Functions len and range will be useful in completing this problem.\n",
        "\n",
        "\n",
        "For example, lets take the input for the first three bases in the alignment given:\n",
        "\n",
        "Human       GGA\n",
        "\n",
        "Gorilla     GGA\n",
        "\n",
        "Dolphin     GAG\n",
        "\n",
        "Rat         GGA\n",
        "\n",
        "Mouse       GAG\n",
        "\n",
        "You should return data that looks like this:  [['G', 'G', 'G', 'G', 'G'], ['G', 'G', 'A', 'G', 'A'], ['A', 'A', 'G', 'A', 'G']]"
      ]
    },
    {
      "cell_type": "code",
      "metadata": {
        "id": "wrrprj_p_sYT",
        "outputId": "5c55deb2-d8d6-4b2d-c4e2-4a1de73da133",
        "colab": {
          "base_uri": "https://localhost:8080/"
        }
      },
      "source": [
        "#ANSWER###################################\n",
        "\n",
        "# -----------------------------\n",
        "# Convert sequence to matrix for easy computation\n",
        "# ------------------------------\n",
        "def generateMatrix(seqs):\n",
        "    # Lengths of the aligned sequences are equal\n",
        "    # Get length of first sequence\n",
        "    length = len(seqs[0])\n",
        "\n",
        "    # Initialize variables\n",
        "    matrix = []  # Will store all values at each position\n",
        "\n",
        "    # Get a list of list\n",
        "    # Reads fasta file as matrix\n",
        "    # Example:\n",
        "    #        ATGCA\n",
        "    #        ATGAA\n",
        "    #        TCGAT\n",
        "    #             Bases at index 0   Bases at index 1 ...\n",
        "    # positions = [[\"A\", \"A\", \"T\"],  [\"T\", \"T\", \"C\"], ...]]\n",
        "\n",
        "    for base in range(length):\n",
        "        column = []\n",
        "        for sequence in range(len(seqs)):\n",
        "            column.append(seqs[sequence][base])\n",
        "        matrix.append(column)\n",
        "\n",
        "    return matrix\n",
        "\n",
        "\n",
        "matrix = generateMatrix(sequences)\n",
        "\n",
        "#printing first 3 rows to show the matrix\n",
        "print(matrix[0:3])\n",
        "\n",
        "\n",
        "\n"
      ],
      "execution_count": 32,
      "outputs": [
        {
          "output_type": "stream",
          "name": "stdout",
          "text": [
            "[['G', 'G', 'G', 'G', 'G'], ['G', 'G', 'A', 'G', 'A'], ['A', 'A', 'G', 'A', 'G']]\n"
          ]
        }
      ]
    },
    {
      "cell_type": "markdown",
      "metadata": {
        "id": "4E2GsDEt_8A7"
      },
      "source": [
        "###problem-3.  In this last problem, you will create a defintion that returns a consensus sequence with the most common base. You will again need to use nested loops.  Functions get and max will be helpful in responding to this question.  \n",
        "\n",
        "Use must use the following rules:  This function should print the consensus sequence as one continuous string.\n",
        "\n",
        "1. If all bases are in agreement, return base as upper.case.  e.g. ['G', 'G', 'G', 'G', 'G'] returns G\n",
        "2. If there is an equal split between bases in a column, return \"n\".  e.g. ['G', 'G', 'A', 'A', 'A', 'G'] returns n\n",
        "3. If the the bases are not in agreement, but one base is more frequent than other, return the most frequent base in lower case.  e.g. ['G', 'G', 'G', 'G', 'A'] returns g\n",
        "4. Consider gap characters when constructing your consensus sequence. e.g. ['G', 'G', '-', 'G', 'G'] returns g\n",
        "\n",
        "Your output should look like this: GgaGcgnctnGGAgCCgGacCcgGAcCcCgGCGAtnGCcGcCtGcntCtCn\n"
      ]
    },
    {
      "cell_type": "code",
      "metadata": {
        "id": "lx3sHnCK_-LO",
        "outputId": "483de5ac-9968-4b22-ac93-a0f39bb363eb",
        "colab": {
          "base_uri": "https://localhost:8080/"
        }
      },
      "source": [
        "# -----------------------------\n",
        "# create a function to calculate the consensus\n",
        "# ------------------------------\n",
        "def getConsensus(NewlyFormatedData):\n",
        "  #do not forget to initialize variable in which you can store your concensus string\n",
        "  consensus = \"\"\n",
        "  counts = {'A': 0, 'C': 0, 'G': 0, 'T': 0, '-':0}\n",
        "\n",
        "  for i in range(len(NewlyFormatedData[0])):\n",
        "    for sequence in NewlyFormatedData:\n",
        "      if sequence[i] in counts:\n",
        "        counts[sequence[i]] += 1\n",
        "\n",
        "    #total_count = total(counts.values())\n",
        "    total_count = len(NewlyFormatedData[0])\n",
        "    if total_count == sum(counts.values()):\n",
        "      consensus += total(counts, key=counts.get).upper()\n",
        "    elif total_count * 2 > sum(counts.values()):\n",
        "      consensus += total(counts, key=counts.get).lower()\n",
        "    else:\n",
        "      consensus += 'n'\n",
        "\n",
        "  #remember to return your consensus\n",
        "  return consensus\n",
        "\n",
        "#do not forget to call your function\n",
        "consensus = getConsensus(matrix)\n",
        "\n",
        "#finally, print the consensus sequence as one string\n",
        "print(consensus)"
      ],
      "execution_count": 36,
      "outputs": [
        {
          "output_type": "stream",
          "name": "stdout",
          "text": [
            "nnnnn\n"
          ]
        }
      ]
    },
    {
      "cell_type": "markdown",
      "source": [
        "###ExtraCredit:\n",
        "\n",
        "Create a defintion that returns a consensus sequence, just as you did in response to problem #3.  However, in this case, your definition should ignore gap characters.  For example, ['G', 'G', '-', 'G', 'G'] returns G"
      ],
      "metadata": {
        "id": "CjeJ6qQZ2s-F"
      }
    },
    {
      "cell_type": "code",
      "source": [],
      "metadata": {
        "id": "KtATM4Hh3w11"
      },
      "execution_count": null,
      "outputs": []
    }
  ]
}