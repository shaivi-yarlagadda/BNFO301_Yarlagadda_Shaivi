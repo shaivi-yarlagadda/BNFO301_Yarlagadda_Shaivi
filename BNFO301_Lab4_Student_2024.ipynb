{
  "nbformat": 4,
  "nbformat_minor": 0,
  "metadata": {
    "kernelspec": {
      "display_name": "Python 3",
      "language": "python",
      "name": "python3"
    },
    "language_info": {
      "codemirror_mode": {
        "name": "ipython",
        "version": 3
      },
      "file_extension": ".py",
      "mimetype": "text/x-python",
      "name": "python",
      "nbconvert_exporter": "python",
      "pygments_lexer": "ipython3",
      "version": "3.7.4"
    },
    "colab": {
      "provenance": [],
      "include_colab_link": true
    }
  },
  "cells": [
    {
      "cell_type": "markdown",
      "metadata": {
        "id": "view-in-github",
        "colab_type": "text"
      },
      "source": [
        "<a href=\"https://colab.research.google.com/github/shaivi-yarlagadda/BNFO301_Yarlagadda_Shaivi/blob/main/BNFO301_Lab4_Student_2024.ipynb\" target=\"_parent\"><img src=\"https://colab.research.google.com/assets/colab-badge.svg\" alt=\"Open In Colab\"/></a>"
      ]
    },
    {
      "cell_type": "markdown",
      "metadata": {
        "id": "CV8ltn7IuWLR"
      },
      "source": [
        "<h1>BNFO301 Lab Assignment Regex part 2: Continutation of Python Regex Module</h1>\n",
        "\n",
        "This week's assignment is designed to make use of your knowledge of the basics of Python regex module functions and capabilities. Students will apply regex basics to finding degenerate primers.\n",
        "\n",
        "**Helpful Resources:**\n",
        "1. Re (Regex) documentation- https://docs.python.org/3/library/re.html\n",
        "2. Handy tool to build/test regular expression - https://regex101.com/\n",
        "3. Tutorial - http://justinbois.github.io/bootcamp/2015/lessons/l16_regular_expressions.html\n",
        "\n",
        "Grading: problem 1 = 4 points, problem 2 = 3 points, problem 3 = 3 points\n",
        "\n",
        "Please note: unlike our last assignment, each problem is to be solved within one box"
      ]
    },
    {
      "cell_type": "markdown",
      "metadata": {
        "id": "CM7DEBptKwuv"
      },
      "source": [
        "### Part 0- Setup (Provided code)\n",
        "Read the Sample genome obtained from GenBank"
      ]
    },
    {
      "cell_type": "code",
      "metadata": {
        "id": "gjQcjXJLuWLV",
        "outputId": "79ec7efa-ece6-47be-c7e1-71fd19cecc48",
        "colab": {
          "base_uri": "https://localhost:8080/"
        }
      },
      "source": [
        "import re # python regex module\n",
        "import os.path\n",
        "\n",
        "#Read the sequence file\n",
        "DATA_FILE_GITHUB = \"https://raw.githubusercontent.com/boydvcu/BNFO301_2023/main/genome_sequence.fa\"\n",
        "DEFAULT_FILE_NAME = 'genome_sequence.fa'\n",
        "\n",
        "fileName = DEFAULT_FILE_NAME\n",
        "#Does the file exists locally, if not get it from the github\n",
        "if not os.path.exists(fileName):\n",
        "  #Load the file from Github to the local folder\n",
        "  !wget --no-check-certificate --content-disposition $DATA_FILE_GITHUB\n",
        "\n",
        "print(\"Reading file:\", fileName)"
      ],
      "execution_count": 1,
      "outputs": [
        {
          "output_type": "stream",
          "name": "stdout",
          "text": [
            "--2024-02-12 08:32:43--  https://raw.githubusercontent.com/boydvcu/BNFO301_2023/main/genome_sequence.fa\n",
            "Resolving raw.githubusercontent.com (raw.githubusercontent.com)... 185.199.108.133, 185.199.109.133, 185.199.110.133, ...\n",
            "Connecting to raw.githubusercontent.com (raw.githubusercontent.com)|185.199.108.133|:443... connected.\n",
            "HTTP request sent, awaiting response... 200 OK\n",
            "Length: 582664 (569K) [text/plain]\n",
            "Saving to: ‘genome_sequence.fa’\n",
            "\n",
            "genome_sequence.fa  100%[===================>] 569.01K  --.-KB/s    in 0.03s   \n",
            "\n",
            "2024-02-12 08:32:44 (21.5 MB/s) - ‘genome_sequence.fa’ saved [582664/582664]\n",
            "\n",
            "Reading file: genome_sequence.fa\n"
          ]
        }
      ]
    },
    {
      "cell_type": "markdown",
      "metadata": {
        "id": "wh0WbFnMqadD"
      },
      "source": [
        "### Testing degenerative primers: <br>\n",
        "<br>\n",
        "PCR is a commonly used tool to isolate short regions of a genome.  PCR requires the use of primers, short sequences of DNA that bind to specific sites in a genome.  It is important to determine if they will bind to more than one site in a genome.  Here you will use regex to identify matches to each of the four primers.  Please note that some of the primers are degenerate, which means that the primer will be mixed (e.g. some primer copies may have an A at a given site, while the others of a C at that same site)  You will be provided with a fasta file.  Please examine this file carefully.\n",
        "\n",
        "* M-1B, 5′-agagtttgatmcacc-3′ (M -> A or C)\n",
        "* M-2B, 5′-ctgctgcsycc-3′ (includes characters S and Y)\n",
        "* M-3B, 5′-gcaacgaa3′\n",
        "* M-4B, 5′-ggcggtgtgtrc-3′ (includes an R character)\n",
        "\n",
        "Note that primer M-1B should be matched once <br>\n",
        "Note that primer M-2B should be matched twice <br>\n",
        "Note that primer M-3B should be matched five times <br>\n",
        "Note that primer M-4B should be matched twice <br>\n"
      ]
    },
    {
      "cell_type": "code",
      "metadata": {
        "id": "WZspvd_KypM9",
        "outputId": "d419eb05-a504-4186-9ca9-ed4f602f6516",
        "colab": {
          "base_uri": "https://localhost:8080/"
        }
      },
      "source": [
        "#Problem 1. create function to remove header lines from a fasta file using regex (\"that starts with >\"), when fasta formated data is passed to the function\n",
        "  #note: please do not change the function names, as it will be used below\n",
        "def removeHeaders(data):\n",
        "  # you are required to create a pattern using regular expressions that will match the header lines in the fasta file\n",
        "  pattern = \"^>\"\n",
        "  # Compile your search string using re.compile\n",
        "  myHeaderline = re.compile(pattern, re.MULTILINE)\n",
        "  # Use sub to ind and replace the header line with a blank entry (i.e. '')\n",
        "  GenomeWOheader = myHeaderline.sub('', data)\n",
        "  return GenomeWOheader\n",
        "\n",
        "#########################\n",
        "#The following code is provided and does not need to be changed, plese do not how regular expersion were used to find and replace white space characters\n",
        "# Read in the data\n",
        "with open(fileName, \"r\") as myfile:\n",
        "    myGenome = myfile.read()\n",
        "# Use the you just created to remove the headers\n",
        "myGenome = removeHeaders(myGenome)\n",
        "#this pattern will match all the newline/tabs etc.\n",
        "seqpattern = \"(\\r\\n)+|\\r+|\\n+|\\t+\"\n",
        "# Compile our search pattern\n",
        "myEndline = re.compile(seqpattern)\n",
        "# Get a list of all the segments\n",
        "list_of_seq_segments = myEndline.findall(myGenome)\n",
        "print(\"Total End Line Characters Found for Replacement:\",len(list_of_seq_segments))\n",
        "# Find and replace all white space charcters for accurate search of primers\n",
        "output = myEndline.sub('', myGenome)\n",
        "##########################\n",
        "\n",
        "#Problem 2. Create a function to find all primer matches within the genome, along with the location (begining and end) of the match in the genome\n",
        "#assume the funciton recieves a compiled search patter and the genome\n",
        "#please do not change the function names, as it is used below\n",
        "def findSequences(pattern,data):\n",
        "  #open up a counter to keep track of the total pattern matches\n",
        "  count = 0\n",
        "  #use a for loop to return each match.  Should you use findall, or finditer?\n",
        "  for match in re.finditer(pattern, data):\n",
        "    #update your count of each match\n",
        "    count += 1\n",
        "    # get the start index of each match (integer)\n",
        "    MatchStart = match.start()\n",
        "    # get the ending index of each match (integer)\n",
        "    MatchEnd = match.end()\n",
        "    # match the string (recall that your primers have ambiguity characters, therefore you want to report each match as a full length sequence)\n",
        "    MatchSequence = match.group()\n",
        "    # Print match\n",
        "    print('Match: {} \"{}\" found at: [{},{}]'.format(count, MatchSequence, MatchStart,MatchEnd))\n",
        "  print(\"Total Sequences Found:\",count, \"\\n\")\n",
        "  return count\n",
        "\n",
        "#Problem 3. Use regex to create a pattern for each primer, you are given the first one.  Use it as an example for the remaining three primers\n",
        "# for this problem, I want you to assume that genome only includes the characters a, t, c, g, A, T, C, or G\n",
        "\n",
        "#3.1. Finding the pattern \"agagtttgatmcacc\"\n",
        "#Note (?i) - ignores the case, m can be a or c -> [ac]\n",
        "pattern = \"(?i)agagtttgat[ac]cacc\"\n",
        "findSequences(pattern,output)\n",
        "\n",
        "#3.2. Find the pattern \"ctgctgcsycc\"\n",
        "#Check your notes to determine which bases y represents\n",
        "#Check your notes to determine which bases s represents\n",
        "pattern_32 =  \"(?i)ctgctgc[cg][ct]cc\"\n",
        "findSequences(pattern_32,output)\n",
        "#3.3. Finding the pattern \"gcaacgaa\"\n",
        "pattern_33=\"(?i)gcaacgaa\"\n",
        "findSequences(pattern_33,output)\n",
        "\n",
        "#3.4. Finding the pattern \"ggcggtgtgtrc\"\n",
        "#Check your notes to determine which bases r represents\n",
        "pattern_34=\"(?i)ggcggtgtgt[ag]c\"\n",
        "findSequences(pattern_34, myGenome)\n",
        "\n"
      ],
      "execution_count": 5,
      "outputs": [
        {
          "output_type": "stream",
          "name": "stdout",
          "text": [
            "Total End Line Characters Found for Replacement: 8207\n",
            "Match: 1 \"AGAGTTTGATACACC\" found at: [5484,5499]\n",
            "Total Sequences Found: 1 \n",
            "\n",
            "Match: 1 \"CTGCTGCCTCC\" found at: [39927,39938]\n",
            "Match: 2 \"CTGCTGCCTCC\" found at: [338544,338555]\n",
            "Total Sequences Found: 2 \n",
            "\n",
            "Match: 1 \"GCAACGAA\" found at: [74021,74029]\n",
            "Match: 2 \"GCAACGAA\" found at: [92873,92881]\n",
            "Match: 3 \"GCAACGAA\" found at: [162620,162628]\n",
            "Match: 4 \"GCAACGAA\" found at: [192656,192664]\n",
            "Match: 5 \"GCAACGAA\" found at: [482937,482945]\n",
            "Total Sequences Found: 5 \n",
            "\n",
            "Match: 1 \"GGCGGTGTGTAC\" found at: [39435,39447]\n",
            "Match: 2 \"GGCGGTGTGTAC\" found at: [342318,342330]\n",
            "Total Sequences Found: 2 \n",
            "\n"
          ]
        },
        {
          "output_type": "execute_result",
          "data": {
            "text/plain": [
              "2"
            ]
          },
          "metadata": {},
          "execution_count": 5
        }
      ]
    }
  ]
}