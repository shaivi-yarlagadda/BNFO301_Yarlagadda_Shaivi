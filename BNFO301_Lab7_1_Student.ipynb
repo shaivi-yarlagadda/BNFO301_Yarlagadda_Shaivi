{
  "nbformat": 4,
  "nbformat_minor": 0,
  "metadata": {
    "colab": {
      "provenance": [],
      "include_colab_link": true
    },
    "kernelspec": {
      "name": "python3",
      "display_name": "Python 3"
    },
    "language_info": {
      "name": "python"
    }
  },
  "cells": [
    {
      "cell_type": "markdown",
      "metadata": {
        "id": "view-in-github",
        "colab_type": "text"
      },
      "source": [
        "<a href=\"https://colab.research.google.com/github/shaivi-yarlagadda/BNFO301_Yarlagadda_Shaivi/blob/main/BNFO301_Lab7_1_Student.ipynb\" target=\"_parent\"><img src=\"https://colab.research.google.com/assets/colab-badge.svg\" alt=\"Open In Colab\"/></a>"
      ]
    },
    {
      "cell_type": "markdown",
      "source": [
        "##Lab 7. Phylogenetic tree inference using distance matrix methods.\n",
        "\n",
        "In this three part lab, you will infer a phylogenetic tree using a Distance Matrix Method.  This example uses one of a class of methods, which are statistically consistent, but sensitive to long-branch attraction.  In order to infer a tree, we must take several step, starting with sequences that have been aligned and are of equal length.  Next, we must find all pairwise distances and correct the distances using one of many models of subsitution.  Finally, we need to group sequence pairs and re-calculate distances, until all pairs have been grouped.  This grouping determines the order the tree, represented as a newick string.\n",
        "\n",
        "##Part 1. 10 points - March 14\n",
        "\n",
        "Problem 1.1 create a function to return P-distance\n",
        "\n",
        "Problem 1.2 create a function to return corrected P-distance using the Jukes-Cantor model.\n",
        "\n",
        "Problem 1.3 create a function to build a pairwise distance matrix\n",
        "\n",
        "Problem 1.4 create a function to find the pair of sequences with smallest distance, given the distance matrix from part 1.3\n",
        "\n",
        "##Part 2. 10 points - March 21\n",
        "\n",
        "Problem 2.1 create a function to merge the most similar sequences based on the corrected P-distances and shrink the matrix\n",
        "\n",
        "##Part 3. 10 points - March 28\n",
        "\n",
        "Problem 3.1 create a function to infer a phylogenetic tree\n",
        "\n",
        "Problem 3.2 create a function to read in a sequence alignment in phylip format\n",
        "\n",
        "Problem 3.3 use functions created in parts 1 and 2 to infer a phylogenetic tree given the data provided in the phylip file\n",
        "\n",
        "Problem 3.3 Answer questions about this tree"
      ],
      "metadata": {
        "id": "y89ThmMC8vIl"
      }
    },
    {
      "cell_type": "code",
      "execution_count": 1,
      "metadata": {
        "id": "azPwaTFL8sRq"
      },
      "outputs": [],
      "source": [
        "import math"
      ]
    },
    {
      "cell_type": "markdown",
      "source": [
        "Problem 1.1 Create function to calculate a P-distance given two sequences"
      ],
      "metadata": {
        "id": "B7SNPmSI88db"
      }
    },
    {
      "cell_type": "code",
      "source": [
        "#####################\n",
        "#\n",
        "#create a definition called \"PDistance\" that returns an uncorrected P-distance given two sequences\n",
        "#your function should first check that sequences are of the same length, else return helpful error message (use keyword assert)\n",
        "#recall that P-distance is the Hamming-distance / length of the alignment\n",
        "#\n",
        "#####################\n",
        "\n",
        "def PDistance(x, y):\n",
        "    assert len(x) == len(y), \"Sequences must be of equal length.\"\n",
        "\n",
        "    hamming_distance = sum(xi != yi for xi, yi in zip(x, y))\n",
        "    p_distance = hamming_distance / len(x)\n",
        "    return p_distance\n",
        "\n",
        "\n",
        "#####################\n",
        "#\n",
        "#use these two sequences to test your function;\n",
        "#P-distance = 0.2\n",
        "#\n",
        "######################\n",
        "\n",
        "seq1a = \"TATAGTAAAA\"\n",
        "seq2a = \"TATAGTATTA\"\n",
        "Dist_Problem1_1 = PDistance(seq1a, seq2a)\n",
        "print(Dist_Problem1_1)"
      ],
      "metadata": {
        "colab": {
          "base_uri": "https://localhost:8080/"
        },
        "id": "NDd8qvMZ9D6A",
        "outputId": "4551d626-d147-4d42-fa3b-acb347cad7fb"
      },
      "execution_count": 4,
      "outputs": [
        {
          "output_type": "stream",
          "name": "stdout",
          "text": [
            "0.2\n"
          ]
        }
      ]
    },
    {
      "cell_type": "markdown",
      "source": [
        "Problem 1.2. Create a function to correct the P-distance using the Jukes-Cantor model"
      ],
      "metadata": {
        "id": "q1ncczh_9Q4j"
      }
    },
    {
      "cell_type": "code",
      "source": [
        "#####################\n",
        "#\n",
        "#create a definition called \"JCdistance\" that returns a corrected P-distance given two sequences using the Jukes Cantor model\n",
        "#recal, Jukes Cantor was described in class is a simple correction of P-distance\n",
        "#Hint: use function created in problem 1.1, \"PDistance\", to simplfly your code\n",
        "#\n",
        "#####################\n",
        "def JCdistance(x, y):\n",
        "    p_distance = PDistance(x, y)\n",
        "    corrected_distance = -0.75 * math.log(1 - (4 / 3) * p_distance)\n",
        "    return corrected_distance\n",
        "\n",
        "\n",
        "\n",
        "\n",
        "\n",
        "\n",
        "#####################\n",
        "#\n",
        "#use these two sequences to test your function;\n",
        "#Corrected P-distance = 0.2326161962278796\n",
        "#\n",
        "######################\n",
        "\n",
        "seq1b = \"TATAGTTAAA\"\n",
        "seq2b = \"TATAGTTTTA\"\n",
        "JCdist_Problem1_2 = JCdistance(seq1b, seq2b)\n",
        "print(JCdist_Problem1_2)"
      ],
      "metadata": {
        "colab": {
          "base_uri": "https://localhost:8080/"
        },
        "id": "aUszJJQ49RxI",
        "outputId": "5c6e92c2-24c2-433a-a5e9-f1d382cf6657"
      },
      "execution_count": 5,
      "outputs": [
        {
          "output_type": "stream",
          "name": "stdout",
          "text": [
            "0.2326161962278796\n"
          ]
        }
      ]
    },
    {
      "cell_type": "markdown",
      "source": [
        "Problem 1.3. Create a function to store distances between sequence pairs as a multidimentionsal dictionary.  You are required to use the Jukes Cantor corrected P-distance when building the dictionary.\n",
        "\n"
      ],
      "metadata": {
        "id": "-vdH854092s9"
      }
    },
    {
      "cell_type": "code",
      "source": [
        "#####################\n",
        "#\n",
        "#create a definition called \"DistanceMatrix\" that returns a dictionary given a set of DNA or AA sequences\n",
        "#Input data: a dictionary containing sequences (values) and sequence names (keys)\n",
        "#Output data: nested dictionary discribing pairwise distances between sequence pairs. Note: you should include all comparisons, including to self\n",
        "#\n",
        "#####################\n",
        "\n",
        "def DistanceMatrix(sequences):\n",
        "  distance_matrix = {}\n",
        "\n",
        "  for name1, seq1 in sequences.items():\n",
        "      distance_matrix[name1] = {}\n",
        "      for name2, seq2 in sequences.items():\n",
        "          distance_matrix[name1][name2] = JCdistance(seq1, seq2)\n",
        "\n",
        "  return distance_matrix\n",
        "\n",
        "\n",
        "\n",
        "\n",
        "\n",
        "#####################\n",
        "#\n",
        "#use these sequences to test your function\n",
        "#expected result: {'seq1': {'seq1': 0.0, 'seq2': 0.2326161962278796, 'seq3': 0.3831192178244929, 'seq4': 0.2326161962278796}, 'seq2': {'seq1': 0.2326161962278796, 'seq2': 0.0, 'seq3': 0.3831192178244929, 'seq4': 0.0}, 'seq3': {'seq1': 0.3831192178244929, 'seq2': 0.3831192178244929, 'seq3': 0.0, 'seq4': 0.3831192178244929}, 'seq4': {'seq1': 0.2326161962278796, 'seq2': 0.0, 'seq3': 0.3831192178244929, 'seq4': 0.0}}\n",
        "#\n",
        "#####################\n",
        "\n",
        "SampleSeqDict = {'seq1': 'TATACTAAAA', 'seq2': 'TATACTAATT', 'seq3': 'TATAGTATTA', 'seq4': 'TATACTAATT'}\n",
        "Matrix_Problem1_3 = DistanceMatrix(SampleSeqDict)\n",
        "print(Matrix_Problem1_3)"
      ],
      "metadata": {
        "colab": {
          "base_uri": "https://localhost:8080/"
        },
        "id": "qX7R0W0N93bY",
        "outputId": "0c180fcb-adff-449c-fc1b-087d0394397e"
      },
      "execution_count": 6,
      "outputs": [
        {
          "output_type": "stream",
          "name": "stdout",
          "text": [
            "{'seq1': {'seq1': -0.0, 'seq2': 0.2326161962278796, 'seq3': 0.3831192178244929, 'seq4': 0.2326161962278796}, 'seq2': {'seq1': 0.2326161962278796, 'seq2': -0.0, 'seq3': 0.3831192178244929, 'seq4': -0.0}, 'seq3': {'seq1': 0.3831192178244929, 'seq2': 0.3831192178244929, 'seq3': -0.0, 'seq4': 0.3831192178244929}, 'seq4': {'seq1': 0.2326161962278796, 'seq2': -0.0, 'seq3': 0.3831192178244929, 'seq4': -0.0}}\n"
          ]
        }
      ]
    },
    {
      "cell_type": "markdown",
      "source": [
        "Problem 1.4. Create a function to find the most similar sequences, given the nested dictionary you created in the last problem."
      ],
      "metadata": {
        "id": "D-UwDybBAVF-"
      }
    },
    {
      "cell_type": "code",
      "source": [
        "#####################\n",
        "#\n",
        "#create a definition called \"GetMinDistance\" that returns name of two sequences that has the shortest distance\n",
        "#Note: avoid self comparisons when finding the shortest distance\n",
        "#\n",
        "#####################\n",
        "\n",
        "\n",
        "def GetMinDistance(matrix):\n",
        "  min_distance = float('inf')\n",
        "  min_pair = None\n",
        "\n",
        "  for name1, distances in matrix.items():\n",
        "      for name2, distance in distances.items():\n",
        "          if name1 != name2 and distance < min_distance:\n",
        "              min_distance = distance\n",
        "              min_pair = (name1, name2)\n",
        "\n",
        "  return min_pair\n",
        "\n",
        "\n",
        "#####################\n",
        "#\n",
        "#use these sequences to test your function, seq1 and seq2 are most similar within the test data\n",
        "#Expected result: seq1 and seq2\n",
        "#\n",
        "#####################\n",
        "\n",
        "SampleSeqDict = {'seq1': 'TATAGTATTA', 'seq2': 'TATAGTATTA', 'seq3': 'AATAGTATTA', 'seq4': 'TATACAATTA'}\n",
        "Matrix_Problem1_4 = DistanceMatrix(SampleSeqDict)\n",
        "i, j = GetMinDistance(Matrix_Problem1_4)\n",
        "print(i,j)"
      ],
      "metadata": {
        "colab": {
          "base_uri": "https://localhost:8080/"
        },
        "id": "41ye0QOyAf4a",
        "outputId": "cc85e39f-35b2-48a7-d6da-7474d7291bfd"
      },
      "execution_count": 7,
      "outputs": [
        {
          "output_type": "stream",
          "name": "stdout",
          "text": [
            "seq1 seq2\n"
          ]
        }
      ]
    }
  ]
}