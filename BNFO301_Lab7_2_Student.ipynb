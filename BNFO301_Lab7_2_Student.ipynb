{
  "nbformat": 4,
  "nbformat_minor": 0,
  "metadata": {
    "colab": {
      "provenance": [],
      "include_colab_link": true
    },
    "kernelspec": {
      "name": "python3",
      "display_name": "Python 3"
    },
    "language_info": {
      "name": "python"
    }
  },
  "cells": [
    {
      "cell_type": "markdown",
      "metadata": {
        "id": "view-in-github",
        "colab_type": "text"
      },
      "source": [
        "<a href=\"https://colab.research.google.com/github/shaivi-yarlagadda/BNFO301_Yarlagadda_Shaivi/blob/main/BNFO301_Lab7_2_Student.ipynb\" target=\"_parent\"><img src=\"https://colab.research.google.com/assets/colab-badge.svg\" alt=\"Open In Colab\"/></a>"
      ]
    },
    {
      "cell_type": "markdown",
      "source": [
        "##Lab 7. Phylogenetic tree inference using distance matrix methods.\n",
        "\n",
        "In this three part lab, you will infer a phylogenetic tree using a Distance Matrix Method.  This example uses one of a class of methods, which are statistically consistent, but sensitive to long-branch attraction.  In order to infer a tree, we must take several step, starting with sequences that have been aligned and are of equal length.  Next, we must find all pairwise distances and correct the distances using one of many models of subsitution.  Finally, we need to group sequence pairs and re-calculate distances, until all pairs have been grouped.  This grouping determines the order the tree, represented as a newick string.\n",
        "\n",
        "##Part 1. 10 points - March 14\n",
        "\n",
        "Problem 1.1 create a function to return P-distance\n",
        "\n",
        "Problem 1.2 create a function to return corrected P-distance using the Jukes-Cantor model.\n",
        "\n",
        "Problem 1.3 create a function to build a pairwise distance matrix\n",
        "\n",
        "Problem 1.4 create a function to find the pair of sequences with smallest distance, given the distance matrix from part 1.3\n",
        "\n",
        "##Part 2. 10 points - March 21\n",
        "\n",
        "Problem 2.1 create a function to merge the most similar sequences based on the corrected P-distances and shrink the matrix\n",
        "\n",
        "##Part 3. 10 points - March 28\n",
        "\n",
        "Problem 3.1 create a function to infer a phylogenetic tree\n",
        "\n",
        "Problem 3.2 create a function to read in a sequence alignment in phylip format\n",
        "\n",
        "Problem 3.3 use functions created in parts 1 and 2 to infer a phylogenetic tree given the data provided in the phylip file\n",
        "\n",
        "Problem 3.3 Answer questions about this tree"
      ],
      "metadata": {
        "id": "y89ThmMC8vIl"
      }
    },
    {
      "cell_type": "code",
      "execution_count": 5,
      "metadata": {
        "id": "azPwaTFL8sRq"
      },
      "outputs": [],
      "source": [
        "import math"
      ]
    },
    {
      "cell_type": "markdown",
      "source": [
        "Problem 1.1 Create function to calculate a P-distance given two sequences"
      ],
      "metadata": {
        "id": "B7SNPmSI88db"
      }
    },
    {
      "cell_type": "code",
      "source": [
        "#####################\n",
        "#\n",
        "#create a definition called \"PDistance\" that returns an uncorrected P-distance given two sequences\n",
        "#your function should first check that sequences are of the same length, else return helpful error message (use keyword assert)\n",
        "#recall that P-distance is the Hamming-distance / length of the alignment\n",
        "#\n",
        "#####################\n",
        "\n",
        "def PDistance(x, y):\n",
        "\tassert len(x) == len(y), 'sequences must be of equal length'\n",
        "\tcounter = 0.0\n",
        "\tfor i in range(len(x)):\n",
        "\t\tif (x[i] != y[i]):\n",
        "\t\t\tcounter += 1\n",
        "\tPdist = counter/len(x)\n",
        "\treturn Pdist\n",
        "\n",
        "#####################\n",
        "#\n",
        "#use these two sequences to test your function;\n",
        "#P-distance = 0.2\n",
        "#\n",
        "######################\n",
        "\n",
        "seq1a = \"TATAGTAAAA\"\n",
        "seq2a = \"TATAGTATTA\"\n",
        "Dist_Problem1_1 = PDistance(seq1a, seq2a)\n",
        "print(Dist_Problem1_1)"
      ],
      "metadata": {
        "colab": {
          "base_uri": "https://localhost:8080/"
        },
        "id": "NDd8qvMZ9D6A",
        "outputId": "5a1613b6-026f-45a0-8f4f-8eeb9e771bf2"
      },
      "execution_count": 3,
      "outputs": [
        {
          "output_type": "stream",
          "name": "stdout",
          "text": [
            "0.2\n"
          ]
        }
      ]
    },
    {
      "cell_type": "markdown",
      "source": [
        "Problem 1.2. Create a function to correct the P-distance using the Jukes-Cantor model"
      ],
      "metadata": {
        "id": "q1ncczh_9Q4j"
      }
    },
    {
      "cell_type": "code",
      "source": [
        "#####################\n",
        "#\n",
        "#create a definition called \"JCdistance\" that returns a corrected P-distance given two sequences using the Jukes Cantor model\n",
        "#recal, Jukes Cantor was described in class is a simple correction of P-distance\n",
        "#Hint: use function created in problem 1.1, \"PDistance\", to simplfly your code\n",
        "#\n",
        "#####################\n",
        "\n",
        "def JCdistance(x, y):\n",
        "  uncorrectedDist = PDistance(x, y)\n",
        "  if (uncorrectedDist != 0):\n",
        "    correctdist = (-3/4)*math.log(1-(4/3)*uncorrectedDist)\n",
        "  else:\n",
        "    correctdist = 0.0\n",
        "  return (correctdist)\n",
        "\n",
        "#####################\n",
        "#\n",
        "#use these two sequences to test your function;\n",
        "#Corrected P-distance = 0.2326161962278796\n",
        "#\n",
        "######################\n",
        "\n",
        "seq1b = \"TATAGTTAAA\"\n",
        "seq2b = \"TATAGTTTTA\"\n",
        "JCdist_Problem1_2 = JCdistance(seq1b, seq2b)\n",
        "print(JCdist_Problem1_2)"
      ],
      "metadata": {
        "colab": {
          "base_uri": "https://localhost:8080/"
        },
        "id": "aUszJJQ49RxI",
        "outputId": "307dcb98-82a5-4f3a-ab2b-0f2bd750c214"
      },
      "execution_count": 6,
      "outputs": [
        {
          "output_type": "stream",
          "name": "stdout",
          "text": [
            "0.2326161962278796\n"
          ]
        }
      ]
    },
    {
      "cell_type": "markdown",
      "source": [
        "Problem 1.3. Create a function to store distances between sequence pairs as a multidimentionsal dictionary.  You are required to use the Jukes Cantor corrected P-distance when building the dictionary.\n",
        "\n"
      ],
      "metadata": {
        "id": "-vdH854092s9"
      }
    },
    {
      "cell_type": "code",
      "source": [
        "#####################\n",
        "#\n",
        "#create a definition called \"DistanceMatrix\" that returns a dictionary given a set of DNA or AA sequences\n",
        "#Input data: a dictionary containing sequences (values) and sequence names (keys)\n",
        "#Output data: nested dictionary discribing pairwise distances between sequence pairs. Note: you should include all comparisons, including to self\n",
        "#\n",
        "#####################\n",
        "\n",
        "def DistanceMatrix(sequences):\n",
        "\tmatrix = {}\n",
        "\tfor i in sequences.keys():\n",
        "\t\tif i not in matrix.keys():\n",
        "\t\t\tmatrix[i] = {}\n",
        "\t\tfor j in sequences.keys():\n",
        "\t\t\tmatrix[i][j] = JCdistance(sequences[i], sequences[j])\n",
        "\n",
        "\treturn matrix\n",
        "\n",
        "#####################\n",
        "#\n",
        "#use these sequences to test your function\n",
        "#expected result: {'seq1': {'seq1': 0.0, 'seq2': 0.2326161962278796, 'seq3': 0.3831192178244929, 'seq4': 0.2326161962278796}, 'seq2': {'seq1': 0.2326161962278796, 'seq2': 0.0, 'seq3': 0.3831192178244929, 'seq4': 0.0}, 'seq3': {'seq1': 0.3831192178244929, 'seq2': 0.3831192178244929, 'seq3': 0.0, 'seq4': 0.3831192178244929}, 'seq4': {'seq1': 0.2326161962278796, 'seq2': 0.0, 'seq3': 0.3831192178244929, 'seq4': 0.0}}\n",
        "#\n",
        "#####################\n",
        "\n",
        "SampleSeqDict = {'seq1': 'TATACTAAAA', 'seq2': 'TATACTAATT', 'seq3': 'TATAGTATTA', 'seq4': 'TATACTAATT'}\n",
        "Matrix_Problem1_3 = DistanceMatrix(SampleSeqDict)\n",
        "print(Matrix_Problem1_3)"
      ],
      "metadata": {
        "colab": {
          "base_uri": "https://localhost:8080/"
        },
        "id": "qX7R0W0N93bY",
        "outputId": "632af105-2448-490e-da6f-5c6394b23aca"
      },
      "execution_count": 7,
      "outputs": [
        {
          "output_type": "stream",
          "name": "stdout",
          "text": [
            "{'seq1': {'seq1': 0.0, 'seq2': 0.2326161962278796, 'seq3': 0.3831192178244929, 'seq4': 0.2326161962278796}, 'seq2': {'seq1': 0.2326161962278796, 'seq2': 0.0, 'seq3': 0.3831192178244929, 'seq4': 0.0}, 'seq3': {'seq1': 0.3831192178244929, 'seq2': 0.3831192178244929, 'seq3': 0.0, 'seq4': 0.3831192178244929}, 'seq4': {'seq1': 0.2326161962278796, 'seq2': 0.0, 'seq3': 0.3831192178244929, 'seq4': 0.0}}\n"
          ]
        }
      ]
    },
    {
      "cell_type": "markdown",
      "source": [
        "Problem 1.4. Create a function to find the most similar sequences, given the nested dictionary you created in the last problem."
      ],
      "metadata": {
        "id": "D-UwDybBAVF-"
      }
    },
    {
      "cell_type": "code",
      "source": [
        "#####################\n",
        "#\n",
        "#create a definition called \"GetMinDistance\" that returns name of two sequences that has the shortest distance\n",
        "#Note: avoid self comparisons when finding the shortest distance\n",
        "#\n",
        "#####################\n",
        "\n",
        "def GetMinDistance(matrix):\n",
        "\tlowest_val = float(\"inf\")\n",
        "\tlowest_i = \"\"\n",
        "\tlowest_j = \"\"\n",
        "\n",
        "\tfor i in matrix.keys():\n",
        "\t\tfor j in matrix.keys():\n",
        "\t\t\tif (matrix[i][j] < lowest_val) and (i != j):\n",
        "\t\t\t\tlowest_val = matrix[i][j]\n",
        "\t\t\t\tlowest_i = i\n",
        "\t\t\t\tlowest_j = j\n",
        "\n",
        "\treturn lowest_i, lowest_j\n",
        "\n",
        "#####################\n",
        "#\n",
        "#use these sequences to test your function, seq1 and seq2 are most similar within the test data\n",
        "#Expected result: seq1 and seq2\n",
        "#\n",
        "#####################\n",
        "\n",
        "SampleSeqDict = {'seq1': 'TATAGTATTA', 'seq2': 'TATAGTATTA', 'seq3': 'AATAGTATTA', 'seq4': 'TATACAATTA'}\n",
        "Matrix_Problem1_4 = DistanceMatrix(SampleSeqDict)\n",
        "i, j = GetMinDistance(Matrix_Problem1_4)\n",
        "print(i,j)"
      ],
      "metadata": {
        "colab": {
          "base_uri": "https://localhost:8080/"
        },
        "id": "41ye0QOyAf4a",
        "outputId": "02c77f3d-fcda-4fba-824b-51bcfac2a580"
      },
      "execution_count": 8,
      "outputs": [
        {
          "output_type": "stream",
          "name": "stdout",
          "text": [
            "seq1 seq2\n"
          ]
        }
      ]
    },
    {
      "cell_type": "markdown",
      "source": [
        "Problem 2.1. Create a function to merge the closest neighbors and shrink the nested dictionary created in the previous meeting."
      ],
      "metadata": {
        "id": "A_246WdKCRqs"
      }
    },
    {
      "cell_type": "code",
      "source": [
        "#####################\n",
        "#\n",
        "#create a definition called \"ShrinkMatrix\" that will reduce a nested dictionary\n",
        "#\n",
        "#steps to complete to reduce the nested dictionary:\n",
        "#1. determine pair of labels to be grouped, based on similarity, use 'GetMinDistance' function created above\n",
        "#2. determine new label for grouped pair - Newick format - (A,B)\n",
        "#3. generate list of labels not being grouped, set of all labels - set of grouped pair\n",
        "#4. populate a new nested dictionary with known distances from original nested dictionary\n",
        "#5. add the new 'grouped taxa' to nested dictionary\n",
        "#6. populate the nested dictionary with averaged distances\n",
        "#\n",
        "#####################\n",
        "def ShrinkMatrix(matrix):\n",
        "\n",
        "#i know GetMinDistance was already defined in 1.4, but for some reason it didn't work so i just put that same definition here and my code worked\n",
        "  def GetMinDistance(matrix):\n",
        "\t  lowest_val = float(\"inf\")\n",
        "\t  lowest_i = \"\"\n",
        "\t  lowest_j = \"\"\n",
        "\n",
        "\t  for i in matrix.keys():\n",
        "\t\t  for j in matrix.keys():\n",
        "\t\t\t  if (matrix[i][j] < lowest_val) and (i != j):\n",
        "\t\t\t\t  lowest_val = matrix[i][j]\n",
        "\t\t\t\t  lowest_i = i\n",
        "\t\t\t\t  lowest_j = j\n",
        "\n",
        "\t  return lowest_i, lowest_j\n",
        "\n",
        "  label1, label2 = GetMinDistance(matrix)\n",
        "  new_label = f'({label1},{label2})'\n",
        "\n",
        "  total_labels = set(matrix.keys())\n",
        "  grouped_labels = {label1, label2}\n",
        "  remaining_labels = total_labels - grouped_labels\n",
        "\n",
        "  new_matrix = {}\n",
        "  for label in remaining_labels:\n",
        "      new_matrix[label] = {}\n",
        "      for other_label in remaining_labels:\n",
        "          if other_label != label:\n",
        "              new_matrix[label][other_label] = matrix[label][other_label]\n",
        "\n",
        "  new_matrix[new_label] = {}\n",
        "\n",
        "  for label in remaining_labels:\n",
        "      distance_sum = matrix[label][label1] + matrix[label][label2]\n",
        "      averaged_distance = distance_sum / 2.0\n",
        "      new_matrix[new_label][label] = averaged_distance\n",
        "      new_matrix[label][new_label] = averaged_distance\n",
        "\n",
        "  return new_matrix\n",
        "\n",
        "\n",
        "\n",
        "#####################\n",
        "#\n",
        "#use these sequences to test your function,\n",
        "#Expected result: 'seq1' and 'seq2' should be grouped in the new dictionary\n",
        "#\n",
        "#####################\n",
        "\n",
        "SeqDict_Problem2_1 = {'seq1': 'TATAGTATTA', 'seq2': 'TATAGTATTA', 'seq3': 'AATAGTATTA', 'seq4': 'TATACAATTA'}\n",
        "Distances_Problem2_1 = DistanceMatrix(SeqDict_Problem2_1)\n",
        "Matrix_Problem2_1 = ShrinkMatrix(Distances_Problem2_1)\n",
        "print(Distances_Problem2_1)\n",
        "print(Matrix_Problem2_1)"
      ],
      "metadata": {
        "colab": {
          "base_uri": "https://localhost:8080/"
        },
        "id": "ob0OiRlMCbb1",
        "outputId": "1168e595-65bf-43eb-ca34-850a05ca85e9"
      },
      "execution_count": 17,
      "outputs": [
        {
          "output_type": "stream",
          "name": "stdout",
          "text": [
            "{'seq1': {'seq1': 0.0, 'seq2': 0.0, 'seq3': 0.10732563273050497, 'seq4': 0.2326161962278796}, 'seq2': {'seq1': 0.0, 'seq2': 0.0, 'seq3': 0.10732563273050497, 'seq4': 0.2326161962278796}, 'seq3': {'seq1': 0.10732563273050497, 'seq2': 0.10732563273050497, 'seq3': 0.0, 'seq4': 0.3831192178244929}, 'seq4': {'seq1': 0.2326161962278796, 'seq2': 0.2326161962278796, 'seq3': 0.3831192178244929, 'seq4': 0.0}}\n",
            "{'seq4': {'seq3': 0.3831192178244929, '(seq1,seq2)': 0.2326161962278796}, 'seq3': {'seq4': 0.3831192178244929, '(seq1,seq2)': 0.10732563273050497}, '(seq1,seq2)': {'seq4': 0.2326161962278796, 'seq3': 0.10732563273050497}}\n"
          ]
        }
      ]
    }
  ]
}